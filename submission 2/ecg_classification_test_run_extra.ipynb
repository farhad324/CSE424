{
 "cells": [
  {
   "cell_type": "markdown",
   "metadata": {},
   "source": [
    "### GPU Setup"
   ]
  },
  {
   "cell_type": "code",
   "execution_count": 1,
   "metadata": {},
   "outputs": [
    {
     "name": "stdout",
     "output_type": "stream",
     "text": [
      "TensorFlow Version: 2.6.0\n",
      "Default GPU Device: /device:GPU:0\n",
      "Num GPUs Available:  1\n"
     ]
    }
   ],
   "source": [
    "from distutils.version import LooseVersion\n",
    "import warnings\n",
    "import tensorflow as tf\n",
    "\n",
    "# Check TensorFlow Version\n",
    "assert LooseVersion(tf.__version__) >= LooseVersion('1.0'), 'Please use TensorFlow version 1.0 or newer.  You are using {}'.format(tf.__version__)\n",
    "print('TensorFlow Version: {}'.format(tf.__version__))\n",
    "\n",
    "# Check for a GPU\n",
    "if not tf.test.gpu_device_name():\n",
    "    warnings.warn('No GPU found. Please ensure you have installed TensorFlow correctly')\n",
    "else:\n",
    "    print('Default GPU Device: {}'.format(tf.test.gpu_device_name()))\n",
    "    \n",
    "print(\"Num GPUs Available: \", len(tf.config.list_physical_devices('GPU')))"
   ]
  },
  {
   "cell_type": "code",
   "execution_count": 2,
   "metadata": {},
   "outputs": [
    {
     "data": {
      "text/plain": [
       "[name: \"/device:CPU:0\"\n",
       " device_type: \"CPU\"\n",
       " memory_limit: 268435456\n",
       " locality {\n",
       " }\n",
       " incarnation: 17599468378374460262,\n",
       " name: \"/device:GPU:0\"\n",
       " device_type: \"GPU\"\n",
       " memory_limit: 9898950656\n",
       " locality {\n",
       "   bus_id: 1\n",
       "   links {\n",
       "   }\n",
       " }\n",
       " incarnation: 13097121780313075452\n",
       " physical_device_desc: \"device: 0, name: NVIDIA GeForce RTX 3080 Ti, pci bus id: 0000:01:00.0, compute capability: 8.6\"]"
      ]
     },
     "execution_count": 2,
     "metadata": {},
     "output_type": "execute_result"
    }
   ],
   "source": [
    "from tensorflow.python.client import device_lib\n",
    "device_lib.list_local_devices()"
   ]
  },
  {
   "cell_type": "markdown",
   "metadata": {},
   "source": [
    "### Import Libraries"
   ]
  },
  {
   "cell_type": "code",
   "execution_count": 3,
   "metadata": {},
   "outputs": [],
   "source": [
    "import numpy as np\n",
    "import matplotlib.pyplot as plt\n",
    "import os\n",
    "import tensorflow as tf\n",
    "from tensorflow.keras.preprocessing.image import ImageDataGenerator\n",
    "from tensorflow.keras.layers import Dense, Input, Dropout,Flatten, Conv2D\n",
    "from tensorflow.keras.layers import BatchNormalization, Activation, MaxPooling2D, UpSampling2D, AveragePooling2D,ZeroPadding2D,Convolution2D\n",
    "from tensorflow.keras.models import Model, Sequential\n",
    "from tensorflow.keras.optimizers import Adam, SGD\n",
    "from tensorflow.keras.callbacks import ModelCheckpoint, ReduceLROnPlateau\n",
    "from tensorflow.keras.utils import plot_model\n",
    "import tensorflow.keras.backend as K\n",
    "from IPython.display import SVG, Image\n",
    "import cv2\n",
    "import utils"
   ]
  },
  {
   "cell_type": "markdown",
   "metadata": {},
   "source": [
    "### Malware Classes"
   ]
  },
  {
   "cell_type": "code",
   "execution_count": 4,
   "metadata": {},
   "outputs": [
    {
     "name": "stdout",
     "output_type": "stream",
     "text": [
      "250 COVID images\n",
      "233 HB images\n",
      "239 MI images\n",
      "250 Normal images\n",
      "172 PMI images\n",
      "1 testing images\n",
      "1 training images\n",
      "1 validation images\n"
     ]
    }
   ],
   "source": [
    "class_names = []\n",
    "for types in os.listdir(\"ecg_cropped/\"):\n",
    "    print(str(len(os.listdir(\"ecg_cropped/\"+ types)))+\" \"+ types+' images')\n",
    "    class_names.append(types)\n",
    "\n",
    "class_names_label = {class_name:i for i, class_name in enumerate(class_names)}"
   ]
  },
  {
   "cell_type": "markdown",
   "metadata": {},
   "source": [
    "### Data Processing & Image Data Generator"
   ]
  },
  {
   "cell_type": "markdown",
   "metadata": {},
   "source": [
    "Image Size = 80 * 80 \n",
    "\n",
    "Randomly horizontally flips the images\n",
    "\n",
    "Color Mode = RGB\n",
    "\n",
    "Batch Size = 32"
   ]
  },
  {
   "cell_type": "code",
   "execution_count": 5,
   "metadata": {},
   "outputs": [
    {
     "name": "stdout",
     "output_type": "stream",
     "text": [
      "Found 1081 images belonging to 5 classes.\n",
      "Found 212 images belonging to 5 classes.\n",
      "Found 228 images belonging to 5 classes.\n"
     ]
    }
   ],
   "source": [
    "img_size=(70,70)\n",
    "batch_size = 32\n",
    "datagen_train=ImageDataGenerator(horizontal_flip=True)\n",
    "train_generator=datagen_train.flow_from_directory(\"ecg_cropped/training/ecg_cropped\",\n",
    "target_size=img_size,\n",
    "batch_size=batch_size,\n",
    "class_mode='categorical',\n",
    "color_mode =\"grayscale\",\n",
    "shuffle=True)\n",
    "\n",
    "datagen_validation=ImageDataGenerator(horizontal_flip=True)\n",
    "validation_generator=datagen_validation.flow_from_directory(\"ecg_cropped/validation/ecg_cropped\",\n",
    "target_size=img_size,\n",
    "batch_size=batch_size,\n",
    "class_mode='categorical',\n",
    "color_mode =\"grayscale\",\n",
    "shuffle=True)\n",
    "\n",
    "datagen_test=ImageDataGenerator(horizontal_flip=True)\n",
    "test_generator=datagen_test.flow_from_directory(\"ecg_cropped/testing/ecg_cropped\",\n",
    "target_size=img_size,\n",
    "batch_size=batch_size,\n",
    "class_mode='categorical',\n",
    "color_mode =\"grayscale\",\n",
    "shuffle=True)"
   ]
  },
  {
   "cell_type": "markdown",
   "metadata": {},
   "source": [
    "### CNN Architecture\n",
    "\n",
    "13 Convolutional Layers, added Batch Normalization after each one.\n",
    "Activation = ReLU.\n",
    "Dropout = 15%.\n"
   ]
  },
  {
   "cell_type": "code",
   "execution_count": 6,
   "metadata": {},
   "outputs": [],
   "source": [
    "##malware\n",
    "\n",
    "detection = Sequential()\n",
    "detection.add(Conv2D(8, (3, 3), activation='relu', padding='same', input_shape=(70, 70, 1)))\n",
    "detection.add(BatchNormalization())\n",
    "detection.add(MaxPooling2D((2, 2)))\n",
    "\n",
    "\n",
    "detection.add(Conv2D(16, (3, 3), activation='relu',  padding='same'))\n",
    "detection.add(BatchNormalization())\n",
    "detection.add(MaxPooling2D((2, 2)))\n",
    "\n",
    "\n",
    "detection.add(Conv2D(32, (3, 3), activation='relu', padding='same'))\n",
    "detection.add(BatchNormalization())\n",
    "detection.add(MaxPooling2D((2, 2)))\n",
    "\n",
    "\n",
    "detection.add(Conv2D(64, (3, 3), activation='relu',padding='same'))\n",
    "detection.add(BatchNormalization())\n",
    "detection.add(MaxPooling2D((2, 2)))\n",
    "\n",
    "\n",
    "detection.add(Conv2D(128, (3, 3), activation='relu',padding='same'))\n",
    "detection.add(BatchNormalization())\n",
    "detection.add(MaxPooling2D((2, 2)))\n",
    "detection.add(Dropout(0.15))\n",
    "\n",
    "detection.add(Conv2D(128, (3, 3), activation='relu',padding='same'))\n",
    "detection.add(BatchNormalization())\n",
    "detection.add(MaxPooling2D((2, 2)))\n",
    "detection.add(Dropout(0.15))\n",
    "\n",
    "detection.add(Flatten())\n",
    "detection.add(Dense(512, activation='relu'))\n",
    "detection.add(Dense(5, activation='softmax'))\n",
    "optimum= Adam(learning_rate=0.0001)\n",
    "\n",
    "\n",
    "def precision(y_true, y_pred): #taken from old keras source code\n",
    "    true_positives = K.sum(K.round(K.clip(y_true * y_pred, 0, 1)))\n",
    "    predicted_positives = K.sum(K.round(K.clip(y_pred, 0, 1)))\n",
    "    precision = true_positives / (predicted_positives + K.epsilon())\n",
    "    return precision\n",
    "def recall(y_true, y_pred): #taken from old keras source code\n",
    "    true_positives = K.sum(K.round(K.clip(y_true * y_pred, 0, 1)))\n",
    "    possible_positives = K.sum(K.round(K.clip(y_true, 0, 1)))\n",
    "    recall = true_positives / (possible_positives + K.epsilon())\n",
    "    return recall\n",
    "\n",
    "detection.compile(loss='categorical_crossentropy', optimizer=optimum, metrics=['accuracy',recall,precision,tf.keras.metrics.AUC(curve=\"ROC\"),tf.keras.metrics.FalsePositives(),tf.keras.metrics.TruePositives(),tf.keras.metrics.FalseNegatives(),tf.keras.metrics.TrueNegatives(),tf.keras.metrics.SensitivityAtSpecificity(0.5)])"
   ]
  },
  {
   "cell_type": "code",
   "execution_count": 7,
   "metadata": {},
   "outputs": [
    {
     "name": "stdout",
     "output_type": "stream",
     "text": [
      "Model: \"sequential\"\n",
      "_________________________________________________________________\n",
      "Layer (type)                 Output Shape              Param #   \n",
      "=================================================================\n",
      "conv2d (Conv2D)              (None, 70, 70, 8)         80        \n",
      "_________________________________________________________________\n",
      "batch_normalization (BatchNo (None, 70, 70, 8)         32        \n",
      "_________________________________________________________________\n",
      "max_pooling2d (MaxPooling2D) (None, 35, 35, 8)         0         \n",
      "_________________________________________________________________\n",
      "conv2d_1 (Conv2D)            (None, 35, 35, 16)        1168      \n",
      "_________________________________________________________________\n",
      "batch_normalization_1 (Batch (None, 35, 35, 16)        64        \n",
      "_________________________________________________________________\n",
      "max_pooling2d_1 (MaxPooling2 (None, 17, 17, 16)        0         \n",
      "_________________________________________________________________\n",
      "conv2d_2 (Conv2D)            (None, 17, 17, 32)        4640      \n",
      "_________________________________________________________________\n",
      "batch_normalization_2 (Batch (None, 17, 17, 32)        128       \n",
      "_________________________________________________________________\n",
      "max_pooling2d_2 (MaxPooling2 (None, 8, 8, 32)          0         \n",
      "_________________________________________________________________\n",
      "conv2d_3 (Conv2D)            (None, 8, 8, 64)          18496     \n",
      "_________________________________________________________________\n",
      "batch_normalization_3 (Batch (None, 8, 8, 64)          256       \n",
      "_________________________________________________________________\n",
      "max_pooling2d_3 (MaxPooling2 (None, 4, 4, 64)          0         \n",
      "_________________________________________________________________\n",
      "conv2d_4 (Conv2D)            (None, 4, 4, 128)         73856     \n",
      "_________________________________________________________________\n",
      "batch_normalization_4 (Batch (None, 4, 4, 128)         512       \n",
      "_________________________________________________________________\n",
      "max_pooling2d_4 (MaxPooling2 (None, 2, 2, 128)         0         \n",
      "_________________________________________________________________\n",
      "dropout (Dropout)            (None, 2, 2, 128)         0         \n",
      "_________________________________________________________________\n",
      "conv2d_5 (Conv2D)            (None, 2, 2, 128)         147584    \n",
      "_________________________________________________________________\n",
      "batch_normalization_5 (Batch (None, 2, 2, 128)         512       \n",
      "_________________________________________________________________\n",
      "max_pooling2d_5 (MaxPooling2 (None, 1, 1, 128)         0         \n",
      "_________________________________________________________________\n",
      "dropout_1 (Dropout)          (None, 1, 1, 128)         0         \n",
      "_________________________________________________________________\n",
      "flatten (Flatten)            (None, 128)               0         \n",
      "_________________________________________________________________\n",
      "dense (Dense)                (None, 512)               66048     \n",
      "_________________________________________________________________\n",
      "dense_1 (Dense)              (None, 5)                 2565      \n",
      "=================================================================\n",
      "Total params: 315,941\n",
      "Trainable params: 315,189\n",
      "Non-trainable params: 752\n",
      "_________________________________________________________________\n"
     ]
    }
   ],
   "source": [
    "detection.summary()"
   ]
  },
  {
   "cell_type": "markdown",
   "metadata": {},
   "source": [
    "### Model Visualization"
   ]
  },
  {
   "cell_type": "code",
   "execution_count": 8,
   "metadata": {},
   "outputs": [
    {
     "data": {
      "image/png": "[encoded data removed]",
      "text/plain": [
       "<PIL.Image.Image image mode=RGBA size=782x466 at 0x2334745D9D0>"
      ]
     },
     "execution_count": 8,
     "metadata": {},
     "output_type": "execute_result"
    }
   ],
   "source": [
    "from PIL import ImageFont\n",
    "from collections import defaultdict\n",
    "\n",
    "font = ImageFont.truetype(\"arial.ttf\", 18) \n",
    "\n",
    "color_map = defaultdict(dict)\n",
    "color_map[Conv2D]['fill'] = 'orange'\n",
    "color_map[Dropout]['fill'] = 'silver'\n",
    "color_map[MaxPooling2D]['fill'] = 'red'\n",
    "color_map[Dense]['fill'] = 'blue'\n",
    "color_map[Flatten]['fill'] = 'purple'\n",
    "color_map[BatchNormalization]['fill'] = 'lightgreen'\n",
    "\n",
    "import visualkeras\n",
    "visualkeras.layered_view(detection, legend=True,font=font,color_map=color_map)"
   ]
  },
  {
   "cell_type": "markdown",
   "metadata": {},
   "source": [
    "Number of epochs =35"
   ]
  },
  {
   "cell_type": "code",
   "execution_count": 9,
   "metadata": {},
   "outputs": [
    {
     "name": "stdout",
     "output_type": "stream",
     "text": [
      "Epoch 1/70\n",
      "33/33 [==============================] - 7s 107ms/step - loss: 1.5631 - accuracy: 0.3356 - recall: 0.0994 - precision: 0.4608 - auc: 0.6409 - false_positives: 85.0000 - true_positives: 105.0000 - false_negatives: 944.0000 - true_negatives: 4111.0000 - sensitivity_at_specificity: 0.6816 - val_loss: 1.8417 - val_accuracy: 0.1875 - val_recall: 0.0052 - val_precision: 0.0556 - val_auc: 0.5430 - val_false_positives: 3.0000 - val_true_positives: 1.0000 - val_false_negatives: 191.0000 - val_true_negatives: 765.0000 - val_sensitivity_at_specificity: 0.5625\n",
      "Epoch 2/70\n",
      "33/33 [==============================] - 3s 89ms/step - loss: 1.0829 - accuracy: 0.5891 - recall: 0.3192 - precision: 0.7603 - auc: 0.8562 - false_positives: 107.0000 - true_positives: 334.0000 - false_negatives: 715.0000 - true_negatives: 4089.0000 - sensitivity_at_specificity: 0.9228 - val_loss: 1.8143 - val_accuracy: 0.2240 - val_recall: 0.0052 - val_precision: 0.0556 - val_auc: 0.5472 - val_false_positives: 19.0000 - val_true_positives: 1.0000 - val_false_negatives: 191.0000 - val_true_negatives: 749.0000 - val_sensitivity_at_specificity: 0.5469\n",
      "Epoch 3/70\n",
      "33/33 [==============================] - 3s 91ms/step - loss: 0.8932 - accuracy: 0.6826 - recall: 0.5106 - precision: 0.7877 - auc: 0.9034 - false_positives: 138.0000 - true_positives: 537.0000 - false_negatives: 512.0000 - true_negatives: 4058.0000 - sensitivity_at_specificity: 0.9657 - val_loss: 1.8398 - val_accuracy: 0.2083 - val_recall: 0.1615 - val_precision: 0.3022 - val_auc: 0.5513 - val_false_positives: 70.0000 - val_true_positives: 31.0000 - val_false_negatives: 161.0000 - val_true_negatives: 698.0000 - val_sensitivity_at_specificity: 0.5052\n",
      "Epoch 4/70\n",
      "33/33 [==============================] - 3s 93ms/step - loss: 0.7113 - accuracy: 0.7598 - recall: 0.6328 - precision: 0.8472 - auc: 0.9416 - false_positives: 122.0000 - true_positives: 664.0000 - false_negatives: 385.0000 - true_negatives: 4074.0000 - sensitivity_at_specificity: 0.9857 - val_loss: 1.7570 - val_accuracy: 0.2552 - val_recall: 0.2031 - val_precision: 0.3315 - val_auc: 0.6017 - val_false_positives: 80.0000 - val_true_positives: 39.0000 - val_false_negatives: 153.0000 - val_true_negatives: 688.0000 - val_sensitivity_at_specificity: 0.5833\n",
      "Epoch 5/70\n",
      "33/33 [==============================] - 3s 91ms/step - loss: 0.6380 - accuracy: 0.7798 - recall: 0.6678 - precision: 0.8447 - auc: 0.9528 - false_positives: 129.0000 - true_positives: 701.0000 - false_negatives: 348.0000 - true_negatives: 4067.0000 - sensitivity_at_specificity: 0.9876 - val_loss: 1.5962 - val_accuracy: 0.2760 - val_recall: 0.1927 - val_precision: 0.4539 - val_auc: 0.6493 - val_false_positives: 46.0000 - val_true_positives: 37.0000 - val_false_negatives: 155.0000 - val_true_negatives: 722.0000 - val_sensitivity_at_specificity: 0.6615\n",
      "Epoch 6/70\n",
      "33/33 [==============================] - 3s 92ms/step - loss: 0.5461 - accuracy: 0.8141 - recall: 0.7347 - precision: 0.8620 - auc: 0.9647 - false_positives: 123.0000 - true_positives: 770.0000 - false_negatives: 279.0000 - true_negatives: 4073.0000 - sensitivity_at_specificity: 0.9971 - val_loss: 1.4024 - val_accuracy: 0.3646 - val_recall: 0.2656 - val_precision: 0.5239 - val_auc: 0.7368 - val_false_positives: 45.0000 - val_true_positives: 51.0000 - val_false_negatives: 141.0000 - val_true_negatives: 723.0000 - val_sensitivity_at_specificity: 0.7917\n",
      "Epoch 7/70\n",
      "33/33 [==============================] - 3s 91ms/step - loss: 0.4811 - accuracy: 0.8437 - recall: 0.7825 - precision: 0.8813 - auc: 0.9722 - false_positives: 111.0000 - true_positives: 821.0000 - false_negatives: 228.0000 - true_negatives: 4085.0000 - sensitivity_at_specificity: 0.9971 - val_loss: 1.2698 - val_accuracy: 0.4635 - val_recall: 0.3021 - val_precision: 0.5027 - val_auc: 0.7929 - val_false_positives: 57.0000 - val_true_positives: 58.0000 - val_false_negatives: 134.0000 - val_true_negatives: 711.0000 - val_sensitivity_at_specificity: 0.8698\n",
      "Epoch 8/70\n",
      "33/33 [==============================] - 3s 92ms/step - loss: 0.4155 - accuracy: 0.8618 - recall: 0.8090 - precision: 0.8970 - auc: 0.9801 - false_positives: 97.0000 - true_positives: 849.0000 - false_negatives: 200.0000 - true_negatives: 4099.0000 - sensitivity_at_specificity: 0.9971 - val_loss: 0.9899 - val_accuracy: 0.6094 - val_recall: 0.4948 - val_precision: 0.7544 - val_auc: 0.8740 - val_false_positives: 31.0000 - val_true_positives: 95.0000 - val_false_negatives: 97.0000 - val_true_negatives: 737.0000 - val_sensitivity_at_specificity: 0.9479\n",
      "Epoch 9/70\n",
      "33/33 [==============================] - 3s 89ms/step - loss: 0.3779 - accuracy: 0.8770 - recall: 0.8492 - precision: 0.9026 - auc: 0.9830 - false_positives: 96.0000 - true_positives: 890.0000 - false_negatives: 159.0000 - true_negatives: 4100.0000 - sensitivity_at_specificity: 0.9990 - val_loss: 0.7098 - val_accuracy: 0.7344 - val_recall: 0.6302 - val_precision: 0.8420 - val_auc: 0.9423 - val_false_positives: 23.0000 - val_true_positives: 121.0000 - val_false_negatives: 71.0000 - val_true_negatives: 745.0000 - val_sensitivity_at_specificity: 0.9844\n",
      "Epoch 10/70\n",
      "33/33 [==============================] - 3s 92ms/step - loss: 0.3480 - accuracy: 0.8866 - recall: 0.8612 - precision: 0.9082 - auc: 0.9851 - false_positives: 91.0000 - true_positives: 903.0000 - false_negatives: 146.0000 - true_negatives: 4105.0000 - sensitivity_at_specificity: 1.0000 - val_loss: 0.5757 - val_accuracy: 0.7865 - val_recall: 0.6927 - val_precision: 0.8431 - val_auc: 0.9616 - val_false_positives: 25.0000 - val_true_positives: 133.0000 - val_false_negatives: 59.0000 - val_true_negatives: 743.0000 - val_sensitivity_at_specificity: 0.9948\n",
      "Epoch 11/70\n",
      "33/33 [==============================] - 3s 93ms/step - loss: 0.3109 - accuracy: 0.9047 - recall: 0.8777 - precision: 0.9202 - auc: 0.9880 - false_positives: 79.0000 - true_positives: 921.0000 - false_negatives: 128.0000 - true_negatives: 4117.0000 - sensitivity_at_specificity: 1.0000 - val_loss: 0.4118 - val_accuracy: 0.8958 - val_recall: 0.8594 - val_precision: 0.9121 - val_auc: 0.9825 - val_false_positives: 16.0000 - val_true_positives: 165.0000 - val_false_negatives: 27.0000 - val_true_negatives: 752.0000 - val_sensitivity_at_specificity: 1.0000\n",
      "Epoch 12/70\n",
      "33/33 [==============================] - 3s 94ms/step - loss: 0.2707 - accuracy: 0.9037 - recall: 0.8880 - precision: 0.9225 - auc: 0.9920 - false_positives: 79.0000 - true_positives: 931.0000 - false_negatives: 118.0000 - true_negatives: 4117.0000 - sensitivity_at_specificity: 1.0000 - val_loss: 0.3023 - val_accuracy: 0.9427 - val_recall: 0.8958 - val_precision: 0.9388 - val_auc: 0.9928 - val_false_positives: 11.0000 - val_true_positives: 172.0000 - val_false_negatives: 20.0000 - val_true_negatives: 757.0000 - val_sensitivity_at_specificity: 1.0000\n",
      "Epoch 13/70\n",
      "33/33 [==============================] - 3s 90ms/step - loss: 0.2598 - accuracy: 0.9142 - recall: 0.8903 - precision: 0.9251 - auc: 0.9921 - false_positives: 76.0000 - true_positives: 934.0000 - false_negatives: 115.0000 - true_negatives: 4120.0000 - sensitivity_at_specificity: 1.0000 - val_loss: 0.2658 - val_accuracy: 0.9167 - val_recall: 0.8698 - val_precision: 0.9373 - val_auc: 0.9944 - val_false_positives: 11.0000 - val_true_positives: 167.0000 - val_false_negatives: 25.0000 - val_true_negatives: 757.0000 - val_sensitivity_at_specificity: 1.0000\n",
      "Epoch 14/70\n",
      "33/33 [==============================] - 3s 90ms/step - loss: 0.2246 - accuracy: 0.9205 - recall: 0.8977 - precision: 0.9282 - auc: 0.9941 - false_positives: 73.0000 - true_positives: 948.0000 - false_negatives: 108.0000 - true_negatives: 4151.0000 - sensitivity_at_specificity: 1.0000 - val_loss: 0.2239 - val_accuracy: 0.9479 - val_recall: 0.9323 - val_precision: 0.9675 - val_auc: 0.9957 - val_false_positives: 6.0000 - val_true_positives: 179.0000 - val_false_negatives: 13.0000 - val_true_negatives: 762.0000 - val_sensitivity_at_specificity: 1.0000\n",
      "Epoch 15/70\n",
      "33/33 [==============================] - 3s 92ms/step - loss: 0.2048 - accuracy: 0.9276 - recall: 0.9149 - precision: 0.9418 - auc: 0.9954 - false_positives: 59.0000 - true_positives: 960.0000 - false_negatives: 89.0000 - true_negatives: 4137.0000 - sensitivity_at_specificity: 1.0000 - val_loss: 0.1624 - val_accuracy: 0.9635 - val_recall: 0.9479 - val_precision: 0.9735 - val_auc: 0.9982 - val_false_positives: 5.0000 - val_true_positives: 182.0000 - val_false_negatives: 10.0000 - val_true_negatives: 763.0000 - val_sensitivity_at_specificity: 1.0000\n",
      "Epoch 16/70\n",
      "33/33 [==============================] - 3s 93ms/step - loss: 0.1681 - accuracy: 0.9523 - recall: 0.9455 - precision: 0.9647 - auc: 0.9971 - false_positives: 36.0000 - true_positives: 992.0000 - false_negatives: 57.0000 - true_negatives: 4160.0000 - sensitivity_at_specificity: 1.0000 - val_loss: 0.1565 - val_accuracy: 0.9583 - val_recall: 0.9583 - val_precision: 0.9634 - val_auc: 0.9975 - val_false_positives: 7.0000 - val_true_positives: 184.0000 - val_false_negatives: 8.0000 - val_true_negatives: 761.0000 - val_sensitivity_at_specificity: 1.0000\n",
      "Epoch 17/70\n",
      "33/33 [==============================] - 3s 95ms/step - loss: 0.1413 - accuracy: 0.9657 - recall: 0.9552 - precision: 0.9717 - auc: 0.9982 - false_positives: 29.0000 - true_positives: 1002.0000 - false_negatives: 47.0000 - true_negatives: 4167.0000 - sensitivity_at_specificity: 1.0000 - val_loss: 0.1072 - val_accuracy: 0.9688 - val_recall: 0.9635 - val_precision: 0.9840 - val_auc: 0.9994 - val_false_positives: 3.0000 - val_true_positives: 185.0000 - val_false_negatives: 7.0000 - val_true_negatives: 765.0000 - val_sensitivity_at_specificity: 1.0000\n",
      "Epoch 18/70\n",
      "33/33 [==============================] - 3s 90ms/step - loss: 0.1462 - accuracy: 0.9561 - recall: 0.9498 - precision: 0.9589 - auc: 0.9978 - false_positives: 43.0000 - true_positives: 996.0000 - false_negatives: 53.0000 - true_negatives: 4153.0000 - sensitivity_at_specificity: 1.0000 - val_loss: 0.1650 - val_accuracy: 0.9375 - val_recall: 0.9323 - val_precision: 0.9471 - val_auc: 0.9971 - val_false_positives: 10.0000 - val_true_positives: 179.0000 - val_false_negatives: 13.0000 - val_true_negatives: 758.0000 - val_sensitivity_at_specificity: 1.0000\n",
      "Epoch 19/70\n",
      "33/33 [==============================] - 3s 90ms/step - loss: 0.1257 - accuracy: 0.9561 - recall: 0.9493 - precision: 0.9612 - auc: 0.9984 - false_positives: 40.0000 - true_positives: 996.0000 - false_negatives: 53.0000 - true_negatives: 4156.0000 - sensitivity_at_specificity: 1.0000 - val_loss: 0.1467 - val_accuracy: 0.9583 - val_recall: 0.9531 - val_precision: 0.9679 - val_auc: 0.9974 - val_false_positives: 6.0000 - val_true_positives: 183.0000 - val_false_negatives: 9.0000 - val_true_negatives: 762.0000 - val_sensitivity_at_specificity: 1.0000\n",
      "Epoch 20/70\n",
      "33/33 [==============================] - 3s 92ms/step - loss: 0.1119 - accuracy: 0.9714 - recall: 0.9675 - precision: 0.9753 - auc: 0.9989 - false_positives: 26.0000 - true_positives: 1015.0000 - false_negatives: 34.0000 - true_negatives: 4170.0000 - sensitivity_at_specificity: 1.0000 - val_loss: 0.1368 - val_accuracy: 0.9635 - val_recall: 0.9583 - val_precision: 0.9635 - val_auc: 0.9975 - val_false_positives: 7.0000 - val_true_positives: 184.0000 - val_false_negatives: 8.0000 - val_true_negatives: 761.0000 - val_sensitivity_at_specificity: 1.0000\n",
      "Epoch 21/70\n",
      "33/33 [==============================] - 3s 91ms/step - loss: 0.1074 - accuracy: 0.9704 - recall: 0.9659 - precision: 0.9770 - auc: 0.9989 - false_positives: 24.0000 - true_positives: 1013.0000 - false_negatives: 36.0000 - true_negatives: 4172.0000 - sensitivity_at_specificity: 1.0000 - val_loss: 0.1488 - val_accuracy: 0.9531 - val_recall: 0.9427 - val_precision: 0.9625 - val_auc: 0.9974 - val_false_positives: 7.0000 - val_true_positives: 181.0000 - val_false_negatives: 11.0000 - val_true_negatives: 761.0000 - val_sensitivity_at_specificity: 1.0000\n",
      "Epoch 22/70\n",
      "33/33 [==============================] - 3s 90ms/step - loss: 0.0942 - accuracy: 0.9704 - recall: 0.9669 - precision: 0.9751 - auc: 0.9992 - false_positives: 26.0000 - true_positives: 1014.0000 - false_negatives: 35.0000 - true_negatives: 4170.0000 - sensitivity_at_specificity: 1.0000 - val_loss: 0.0924 - val_accuracy: 0.9896 - val_recall: 0.9740 - val_precision: 0.9896 - val_auc: 0.9988 - val_false_positives: 2.0000 - val_true_positives: 187.0000 - val_false_negatives: 5.0000 - val_true_negatives: 766.0000 - val_sensitivity_at_specificity: 1.0000\n",
      "Epoch 23/70\n",
      "33/33 [==============================] - 3s 92ms/step - loss: 0.0796 - accuracy: 0.9762 - recall: 0.9754 - precision: 0.9790 - auc: 0.9995 - false_positives: 22.0000 - true_positives: 1023.0000 - false_negatives: 26.0000 - true_negatives: 4174.0000 - sensitivity_at_specificity: 1.0000 - val_loss: 0.0904 - val_accuracy: 0.9740 - val_recall: 0.9688 - val_precision: 0.9792 - val_auc: 0.9992 - val_false_positives: 4.0000 - val_true_positives: 186.0000 - val_false_negatives: 6.0000 - val_true_negatives: 764.0000 - val_sensitivity_at_specificity: 1.0000\n",
      "Epoch 24/70\n",
      "33/33 [==============================] - 3s 90ms/step - loss: 0.0860 - accuracy: 0.9771 - recall: 0.9751 - precision: 0.9807 - auc: 0.9993 - false_positives: 20.0000 - true_positives: 1023.0000 - false_negatives: 26.0000 - true_negatives: 4176.0000 - sensitivity_at_specificity: 1.0000 - val_loss: 0.1199 - val_accuracy: 0.9531 - val_recall: 0.9375 - val_precision: 0.9521 - val_auc: 0.9980 - val_false_positives: 9.0000 - val_true_positives: 180.0000 - val_false_negatives: 12.0000 - val_true_negatives: 759.0000 - val_sensitivity_at_specificity: 1.0000\n",
      "Epoch 25/70\n",
      "33/33 [==============================] - 3s 91ms/step - loss: 0.0619 - accuracy: 0.9857 - recall: 0.9830 - precision: 0.9877 - auc: 0.9998 - false_positives: 13.0000 - true_positives: 1031.0000 - false_negatives: 18.0000 - true_negatives: 4183.0000 - sensitivity_at_specificity: 1.0000 - val_loss: 0.1045 - val_accuracy: 0.9688 - val_recall: 0.9688 - val_precision: 0.9688 - val_auc: 0.9987 - val_false_positives: 6.0000 - val_true_positives: 186.0000 - val_false_negatives: 6.0000 - val_true_negatives: 762.0000 - val_sensitivity_at_specificity: 1.0000\n",
      "Epoch 26/70\n",
      "33/33 [==============================] - 3s 90ms/step - loss: 0.0595 - accuracy: 0.9886 - recall: 0.9884 - precision: 0.9893 - auc: 0.9995 - false_positives: 11.0000 - true_positives: 1037.0000 - false_negatives: 12.0000 - true_negatives: 4185.0000 - sensitivity_at_specificity: 1.0000 - val_loss: 0.0952 - val_accuracy: 0.9792 - val_recall: 0.9792 - val_precision: 0.9792 - val_auc: 0.9988 - val_false_positives: 4.0000 - val_true_positives: 188.0000 - val_false_negatives: 4.0000 - val_true_negatives: 764.0000 - val_sensitivity_at_specificity: 1.0000\n",
      "Epoch 27/70\n",
      "33/33 [==============================] - 3s 91ms/step - loss: 0.0585 - accuracy: 0.9867 - recall: 0.9858 - precision: 0.9896 - auc: 0.9997 - false_positives: 11.0000 - true_positives: 1034.0000 - false_negatives: 15.0000 - true_negatives: 4185.0000 - sensitivity_at_specificity: 1.0000 - val_loss: 0.0779 - val_accuracy: 0.9792 - val_recall: 0.9688 - val_precision: 0.9788 - val_auc: 0.9993 - val_false_positives: 4.0000 - val_true_positives: 186.0000 - val_false_negatives: 6.0000 - val_true_negatives: 764.0000 - val_sensitivity_at_specificity: 1.0000\n",
      "Epoch 28/70\n",
      "33/33 [==============================] - 3s 90ms/step - loss: 0.0521 - accuracy: 0.9819 - recall: 0.9811 - precision: 0.9830 - auc: 0.9998 - false_positives: 18.0000 - true_positives: 1029.0000 - false_negatives: 20.0000 - true_negatives: 4178.0000 - sensitivity_at_specificity: 1.0000 - val_loss: 0.1090 - val_accuracy: 0.9740 - val_recall: 0.9688 - val_precision: 0.9792 - val_auc: 0.9985 - val_false_positives: 4.0000 - val_true_positives: 186.0000 - val_false_negatives: 6.0000 - val_true_negatives: 764.0000 - val_sensitivity_at_specificity: 1.0000\n",
      "Epoch 29/70\n",
      "33/33 [==============================] - 3s 91ms/step - loss: 0.0606 - accuracy: 0.9781 - recall: 0.9770 - precision: 0.9816 - auc: 0.9997 - false_positives: 19.0000 - true_positives: 1025.0000 - false_negatives: 24.0000 - true_negatives: 4177.0000 - sensitivity_at_specificity: 1.0000 - val_loss: 0.1182 - val_accuracy: 0.9635 - val_recall: 0.9635 - val_precision: 0.9635 - val_auc: 0.9979 - val_false_positives: 7.0000 - val_true_positives: 185.0000 - val_false_negatives: 7.0000 - val_true_negatives: 761.0000 - val_sensitivity_at_specificity: 1.0000\n",
      "Epoch 30/70\n",
      "33/33 [==============================] - 3s 91ms/step - loss: 0.0542 - accuracy: 0.9847 - recall: 0.9836 - precision: 0.9855 - auc: 0.9997 - false_positives: 15.0000 - true_positives: 1032.0000 - false_negatives: 17.0000 - true_negatives: 4181.0000 - sensitivity_at_specificity: 1.0000 - val_loss: 0.1110 - val_accuracy: 0.9583 - val_recall: 0.9531 - val_precision: 0.9634 - val_auc: 0.9985 - val_false_positives: 7.0000 - val_true_positives: 183.0000 - val_false_negatives: 9.0000 - val_true_negatives: 761.0000 - val_sensitivity_at_specificity: 1.0000\n",
      "Epoch 31/70\n",
      "33/33 [==============================] - 3s 92ms/step - loss: 0.0467 - accuracy: 0.9867 - recall: 0.9846 - precision: 0.9874 - auc: 0.9998 - false_positives: 13.0000 - true_positives: 1033.0000 - false_negatives: 16.0000 - true_negatives: 4183.0000 - sensitivity_at_specificity: 1.0000 - val_loss: 0.1109 - val_accuracy: 0.9583 - val_recall: 0.9531 - val_precision: 0.9630 - val_auc: 0.9981 - val_false_positives: 7.0000 - val_true_positives: 183.0000 - val_false_negatives: 9.0000 - val_true_negatives: 761.0000 - val_sensitivity_at_specificity: 1.0000\n",
      "Epoch 32/70\n",
      "33/33 [==============================] - 3s 92ms/step - loss: 0.0425 - accuracy: 0.9876 - recall: 0.9865 - precision: 0.9874 - auc: 0.9999 - false_positives: 13.0000 - true_positives: 1035.0000 - false_negatives: 14.0000 - true_negatives: 4183.0000 - sensitivity_at_specificity: 1.0000 - val_loss: 0.1267 - val_accuracy: 0.9583 - val_recall: 0.9583 - val_precision: 0.9634 - val_auc: 0.9955 - val_false_positives: 7.0000 - val_true_positives: 184.0000 - val_false_negatives: 8.0000 - val_true_negatives: 761.0000 - val_sensitivity_at_specificity: 0.9948\n",
      "Epoch 33/70\n",
      "33/33 [==============================] - 3s 92ms/step - loss: 0.0333 - accuracy: 0.9924 - recall: 0.9924 - precision: 0.9924 - auc: 0.9999 - false_positives: 8.0000 - true_positives: 1041.0000 - false_negatives: 8.0000 - true_negatives: 4188.0000 - sensitivity_at_specificity: 1.0000 - val_loss: 0.1275 - val_accuracy: 0.9688 - val_recall: 0.9635 - val_precision: 0.9686 - val_auc: 0.9957 - val_false_positives: 6.0000 - val_true_positives: 185.0000 - val_false_negatives: 7.0000 - val_true_negatives: 762.0000 - val_sensitivity_at_specificity: 0.9948\n",
      "Epoch 34/70\n",
      "33/33 [==============================] - 3s 91ms/step - loss: 0.0375 - accuracy: 0.9914 - recall: 0.9893 - precision: 0.9912 - auc: 0.9999 - false_positives: 9.0000 - true_positives: 1038.0000 - false_negatives: 11.0000 - true_negatives: 4187.0000 - sensitivity_at_specificity: 1.0000 - val_loss: 0.1087 - val_accuracy: 0.9635 - val_recall: 0.9635 - val_precision: 0.9635 - val_auc: 0.9962 - val_false_positives: 7.0000 - val_true_positives: 185.0000 - val_false_negatives: 7.0000 - val_true_negatives: 761.0000 - val_sensitivity_at_specificity: 0.9948\n",
      "Epoch 35/70\n",
      "33/33 [==============================] - 3s 90ms/step - loss: 0.0386 - accuracy: 0.9924 - recall: 0.9924 - precision: 0.9924 - auc: 0.9999 - false_positives: 8.0000 - true_positives: 1041.0000 - false_negatives: 8.0000 - true_negatives: 4188.0000 - sensitivity_at_specificity: 1.0000 - val_loss: 0.1041 - val_accuracy: 0.9688 - val_recall: 0.9688 - val_precision: 0.9688 - val_auc: 0.9957 - val_false_positives: 6.0000 - val_true_positives: 186.0000 - val_false_negatives: 6.0000 - val_true_negatives: 762.0000 - val_sensitivity_at_specificity: 0.9948\n",
      "Epoch 36/70\n",
      "33/33 [==============================] - 3s 90ms/step - loss: 0.0328 - accuracy: 0.9924 - recall: 0.9924 - precision: 0.9924 - auc: 0.9999 - false_positives: 8.0000 - true_positives: 1041.0000 - false_negatives: 8.0000 - true_negatives: 4188.0000 - sensitivity_at_specificity: 1.0000 - val_loss: 0.0956 - val_accuracy: 0.9740 - val_recall: 0.9740 - val_precision: 0.9740 - val_auc: 0.9991 - val_false_positives: 5.0000 - val_true_positives: 187.0000 - val_false_negatives: 5.0000 - val_true_negatives: 763.0000 - val_sensitivity_at_specificity: 1.0000\n",
      "Epoch 37/70\n",
      "33/33 [==============================] - 3s 91ms/step - loss: 0.0378 - accuracy: 0.9905 - recall: 0.9886 - precision: 0.9905 - auc: 0.9999 - false_positives: 10.0000 - true_positives: 1037.0000 - false_negatives: 12.0000 - true_negatives: 4186.0000 - sensitivity_at_specificity: 1.0000 - val_loss: 0.0998 - val_accuracy: 0.9635 - val_recall: 0.9635 - val_precision: 0.9635 - val_auc: 0.9988 - val_false_positives: 7.0000 - val_true_positives: 185.0000 - val_false_negatives: 7.0000 - val_true_negatives: 761.0000 - val_sensitivity_at_specificity: 1.0000\n",
      "Epoch 38/70\n",
      "33/33 [==============================] - 3s 89ms/step - loss: 0.0317 - accuracy: 0.9905 - recall: 0.9893 - precision: 0.9921 - auc: 0.9999 - false_positives: 8.0000 - true_positives: 1038.0000 - false_negatives: 11.0000 - true_negatives: 4188.0000 - sensitivity_at_specificity: 1.0000 - val_loss: 0.0675 - val_accuracy: 0.9740 - val_recall: 0.9740 - val_precision: 0.9740 - val_auc: 0.9994 - val_false_positives: 5.0000 - val_true_positives: 187.0000 - val_false_negatives: 5.0000 - val_true_negatives: 763.0000 - val_sensitivity_at_specificity: 1.0000\n",
      "Epoch 39/70\n",
      "33/33 [==============================] - 3s 90ms/step - loss: 0.0284 - accuracy: 0.9933 - recall: 0.9924 - precision: 0.9934 - auc: 0.9999 - false_positives: 7.0000 - true_positives: 1041.0000 - false_negatives: 8.0000 - true_negatives: 4189.0000 - sensitivity_at_specificity: 1.0000 - val_loss: 0.0779 - val_accuracy: 0.9635 - val_recall: 0.9635 - val_precision: 0.9635 - val_auc: 0.9993 - val_false_positives: 7.0000 - val_true_positives: 185.0000 - val_false_negatives: 7.0000 - val_true_negatives: 761.0000 - val_sensitivity_at_specificity: 1.0000\n",
      "Epoch 40/70\n",
      "33/33 [==============================] - 3s 90ms/step - loss: 0.0244 - accuracy: 0.9962 - recall: 0.9959 - precision: 0.9959 - auc: 1.0000 - false_positives: 4.0000 - true_positives: 1045.0000 - false_negatives: 4.0000 - true_negatives: 4192.0000 - sensitivity_at_specificity: 1.0000 - val_loss: 0.0794 - val_accuracy: 0.9688 - val_recall: 0.9688 - val_precision: 0.9688 - val_auc: 0.9994 - val_false_positives: 6.0000 - val_true_positives: 186.0000 - val_false_negatives: 6.0000 - val_true_negatives: 762.0000 - val_sensitivity_at_specificity: 1.0000\n",
      "Epoch 41/70\n",
      "33/33 [==============================] - 3s 91ms/step - loss: 0.0230 - accuracy: 0.9952 - recall: 0.9953 - precision: 0.9953 - auc: 1.0000 - false_positives: 5.0000 - true_positives: 1044.0000 - false_negatives: 5.0000 - true_negatives: 4191.0000 - sensitivity_at_specificity: 1.0000 - val_loss: 0.0921 - val_accuracy: 0.9688 - val_recall: 0.9635 - val_precision: 0.9686 - val_auc: 0.9990 - val_false_positives: 6.0000 - val_true_positives: 185.0000 - val_false_negatives: 7.0000 - val_true_negatives: 762.0000 - val_sensitivity_at_specificity: 1.0000\n",
      "Epoch 42/70\n",
      "33/33 [==============================] - 3s 90ms/step - loss: 0.0280 - accuracy: 0.9943 - recall: 0.9943 - precision: 0.9953 - auc: 0.9999 - false_positives: 5.0000 - true_positives: 1043.0000 - false_negatives: 6.0000 - true_negatives: 4191.0000 - sensitivity_at_specificity: 1.0000 - val_loss: 0.0817 - val_accuracy: 0.9688 - val_recall: 0.9688 - val_precision: 0.9688 - val_auc: 0.9992 - val_false_positives: 6.0000 - val_true_positives: 186.0000 - val_false_negatives: 6.0000 - val_true_negatives: 762.0000 - val_sensitivity_at_specificity: 1.0000\n",
      "Epoch 43/70\n",
      "33/33 [==============================] - 3s 91ms/step - loss: 0.0229 - accuracy: 0.9952 - recall: 0.9941 - precision: 0.9949 - auc: 1.0000 - false_positives: 5.0000 - true_positives: 1043.0000 - false_negatives: 6.0000 - true_negatives: 4191.0000 - sensitivity_at_specificity: 1.0000 - val_loss: 0.0991 - val_accuracy: 0.9635 - val_recall: 0.9635 - val_precision: 0.9635 - val_auc: 0.9991 - val_false_positives: 7.0000 - val_true_positives: 185.0000 - val_false_negatives: 7.0000 - val_true_negatives: 761.0000 - val_sensitivity_at_specificity: 1.0000\n",
      "Epoch 44/70\n",
      "33/33 [==============================] - 3s 92ms/step - loss: 0.0273 - accuracy: 0.9933 - recall: 0.9934 - precision: 0.9934 - auc: 0.9999 - false_positives: 7.0000 - true_positives: 1042.0000 - false_negatives: 7.0000 - true_negatives: 4189.0000 - sensitivity_at_specificity: 1.0000 - val_loss: 0.0583 - val_accuracy: 0.9844 - val_recall: 0.9792 - val_precision: 0.9844 - val_auc: 0.9996 - val_false_positives: 3.0000 - val_true_positives: 188.0000 - val_false_negatives: 4.0000 - val_true_negatives: 765.0000 - val_sensitivity_at_specificity: 1.0000\n",
      "Epoch 45/70\n",
      "33/33 [==============================] - 3s 91ms/step - loss: 0.0259 - accuracy: 0.9924 - recall: 0.9924 - precision: 0.9924 - auc: 0.9999 - false_positives: 8.0000 - true_positives: 1041.0000 - false_negatives: 8.0000 - true_negatives: 4188.0000 - sensitivity_at_specificity: 1.0000 - val_loss: 0.0447 - val_accuracy: 0.9896 - val_recall: 0.9896 - val_precision: 0.9896 - val_auc: 0.9997 - val_false_positives: 2.0000 - val_true_positives: 190.0000 - val_false_negatives: 2.0000 - val_true_negatives: 766.0000 - val_sensitivity_at_specificity: 1.0000\n",
      "Epoch 46/70\n",
      "33/33 [==============================] - 3s 90ms/step - loss: 0.0203 - accuracy: 0.9981 - recall: 0.9981 - precision: 0.9991 - auc: 0.9999 - false_positives: 1.0000 - true_positives: 1047.0000 - false_negatives: 2.0000 - true_negatives: 4195.0000 - sensitivity_at_specificity: 1.0000 - val_loss: 0.0840 - val_accuracy: 0.9688 - val_recall: 0.9635 - val_precision: 0.9686 - val_auc: 0.9992 - val_false_positives: 6.0000 - val_true_positives: 185.0000 - val_false_negatives: 7.0000 - val_true_negatives: 762.0000 - val_sensitivity_at_specificity: 1.0000\n",
      "Epoch 47/70\n",
      "33/33 [==============================] - 3s 90ms/step - loss: 0.0124 - accuracy: 0.9990 - recall: 0.9991 - precision: 0.9991 - auc: 1.0000 - false_positives: 1.0000 - true_positives: 1048.0000 - false_negatives: 1.0000 - true_negatives: 4195.0000 - sensitivity_at_specificity: 1.0000 - val_loss: 0.0841 - val_accuracy: 0.9635 - val_recall: 0.9635 - val_precision: 0.9688 - val_auc: 0.9962 - val_false_positives: 6.0000 - val_true_positives: 185.0000 - val_false_negatives: 7.0000 - val_true_negatives: 762.0000 - val_sensitivity_at_specificity: 0.9948\n",
      "Epoch 48/70\n",
      "33/33 [==============================] - 3s 92ms/step - loss: 0.0290 - accuracy: 0.9943 - recall: 0.9931 - precision: 0.9950 - auc: 0.9999 - false_positives: 5.0000 - true_positives: 1042.0000 - false_negatives: 7.0000 - true_negatives: 4191.0000 - sensitivity_at_specificity: 1.0000 - val_loss: 0.1266 - val_accuracy: 0.9635 - val_recall: 0.9635 - val_precision: 0.9635 - val_auc: 0.9965 - val_false_positives: 7.0000 - val_true_positives: 185.0000 - val_false_negatives: 7.0000 - val_true_negatives: 761.0000 - val_sensitivity_at_specificity: 0.9948\n",
      "Epoch 49/70\n",
      "33/33 [==============================] - 3s 91ms/step - loss: 0.0166 - accuracy: 0.9962 - recall: 0.9962 - precision: 0.9972 - auc: 1.0000 - false_positives: 3.0000 - true_positives: 1045.0000 - false_negatives: 4.0000 - true_negatives: 4193.0000 - sensitivity_at_specificity: 1.0000 - val_loss: 0.0921 - val_accuracy: 0.9740 - val_recall: 0.9740 - val_precision: 0.9792 - val_auc: 0.9936 - val_false_positives: 4.0000 - val_true_positives: 187.0000 - val_false_negatives: 5.0000 - val_true_negatives: 764.0000 - val_sensitivity_at_specificity: 0.9896\n",
      "Epoch 50/70\n",
      "33/33 [==============================] - 3s 90ms/step - loss: 0.0167 - accuracy: 0.9952 - recall: 0.9953 - precision: 0.9962 - auc: 1.0000 - false_positives: 4.0000 - true_positives: 1044.0000 - false_negatives: 5.0000 - true_negatives: 4192.0000 - sensitivity_at_specificity: 1.0000 - val_loss: 0.1081 - val_accuracy: 0.9688 - val_recall: 0.9635 - val_precision: 0.9686 - val_auc: 0.9965 - val_false_positives: 6.0000 - val_true_positives: 185.0000 - val_false_negatives: 7.0000 - val_true_negatives: 762.0000 - val_sensitivity_at_specificity: 0.9948\n",
      "Epoch 51/70\n",
      "33/33 [==============================] - 3s 91ms/step - loss: 0.0199 - accuracy: 0.9934 - recall: 0.9934 - precision: 0.9952 - auc: 1.0000 - false_positives: 5.0000 - true_positives: 1049.0000 - false_negatives: 7.0000 - true_negatives: 4219.0000 - sensitivity_at_specificity: 1.0000 - val_loss: 0.0602 - val_accuracy: 0.9740 - val_recall: 0.9740 - val_precision: 0.9740 - val_auc: 0.9996 - val_false_positives: 5.0000 - val_true_positives: 187.0000 - val_false_negatives: 5.0000 - val_true_negatives: 763.0000 - val_sensitivity_at_specificity: 1.0000\n",
      "Epoch 52/70\n",
      "33/33 [==============================] - 3s 91ms/step - loss: 0.0253 - accuracy: 0.9914 - recall: 0.9915 - precision: 0.9924 - auc: 0.9999 - false_positives: 8.0000 - true_positives: 1040.0000 - false_negatives: 9.0000 - true_negatives: 4188.0000 - sensitivity_at_specificity: 1.0000 - val_loss: 0.0476 - val_accuracy: 0.9844 - val_recall: 0.9792 - val_precision: 0.9842 - val_auc: 0.9997 - val_false_positives: 3.0000 - val_true_positives: 188.0000 - val_false_negatives: 4.0000 - val_true_negatives: 765.0000 - val_sensitivity_at_specificity: 1.0000\n",
      "Epoch 53/70\n",
      "33/33 [==============================] - 3s 91ms/step - loss: 0.0123 - accuracy: 1.0000 - recall: 0.9991 - precision: 1.0000 - auc: 1.0000 - false_positives: 0.0000e+00 - true_positives: 1048.0000 - false_negatives: 1.0000 - true_negatives: 4196.0000 - sensitivity_at_specificity: 1.0000 - val_loss: 0.0749 - val_accuracy: 0.9740 - val_recall: 0.9740 - val_precision: 0.9740 - val_auc: 0.9994 - val_false_positives: 5.0000 - val_true_positives: 187.0000 - val_false_negatives: 5.0000 - val_true_negatives: 763.0000 - val_sensitivity_at_specificity: 1.0000\n",
      "Epoch 54/70\n",
      "33/33 [==============================] - 3s 91ms/step - loss: 0.0170 - accuracy: 0.9943 - recall: 0.9943 - precision: 0.9971 - auc: 1.0000 - false_positives: 3.0000 - true_positives: 1043.0000 - false_negatives: 6.0000 - true_negatives: 4193.0000 - sensitivity_at_specificity: 1.0000 - val_loss: 0.1151 - val_accuracy: 0.9740 - val_recall: 0.9740 - val_precision: 0.9792 - val_auc: 0.9959 - val_false_positives: 4.0000 - val_true_positives: 187.0000 - val_false_negatives: 5.0000 - val_true_negatives: 764.0000 - val_sensitivity_at_specificity: 0.9948\n",
      "Epoch 55/70\n",
      "33/33 [==============================] - 3s 90ms/step - loss: 0.0164 - accuracy: 0.9952 - recall: 0.9953 - precision: 0.9953 - auc: 1.0000 - false_positives: 5.0000 - true_positives: 1044.0000 - false_negatives: 5.0000 - true_negatives: 4191.0000 - sensitivity_at_specificity: 1.0000 - val_loss: 0.1635 - val_accuracy: 0.9583 - val_recall: 0.9531 - val_precision: 0.9582 - val_auc: 0.9929 - val_false_positives: 8.0000 - val_true_positives: 183.0000 - val_false_negatives: 9.0000 - val_true_negatives: 760.0000 - val_sensitivity_at_specificity: 0.9896\n",
      "Epoch 56/70\n",
      "33/33 [==============================] - 3s 91ms/step - loss: 0.0148 - accuracy: 0.9962 - recall: 0.9953 - precision: 0.9962 - auc: 1.0000 - false_positives: 4.0000 - true_positives: 1044.0000 - false_negatives: 5.0000 - true_negatives: 4192.0000 - sensitivity_at_specificity: 1.0000 - val_loss: 0.1440 - val_accuracy: 0.9688 - val_recall: 0.9688 - val_precision: 0.9736 - val_auc: 0.9932 - val_false_positives: 5.0000 - val_true_positives: 186.0000 - val_false_negatives: 6.0000 - val_true_negatives: 763.0000 - val_sensitivity_at_specificity: 0.9896\n",
      "Epoch 57/70\n",
      "33/33 [==============================] - 3s 92ms/step - loss: 0.0096 - accuracy: 0.9972 - recall: 0.9972 - precision: 0.9972 - auc: 1.0000 - false_positives: 3.0000 - true_positives: 1053.0000 - false_negatives: 3.0000 - true_negatives: 4221.0000 - sensitivity_at_specificity: 1.0000 - val_loss: 0.0848 - val_accuracy: 0.9688 - val_recall: 0.9688 - val_precision: 0.9688 - val_auc: 0.9969 - val_false_positives: 6.0000 - val_true_positives: 186.0000 - val_false_negatives: 6.0000 - val_true_negatives: 762.0000 - val_sensitivity_at_specificity: 0.9948\n",
      "Epoch 58/70\n",
      "33/33 [==============================] - 3s 90ms/step - loss: 0.0083 - accuracy: 0.9971 - recall: 0.9972 - precision: 0.9972 - auc: 1.0000 - false_positives: 3.0000 - true_positives: 1046.0000 - false_negatives: 3.0000 - true_negatives: 4193.0000 - sensitivity_at_specificity: 1.0000 - val_loss: 0.0766 - val_accuracy: 0.9740 - val_recall: 0.9740 - val_precision: 0.9740 - val_auc: 0.9994 - val_false_positives: 5.0000 - val_true_positives: 187.0000 - val_false_negatives: 5.0000 - val_true_negatives: 763.0000 - val_sensitivity_at_specificity: 1.0000\n",
      "Epoch 59/70\n",
      "33/33 [==============================] - 3s 91ms/step - loss: 0.0186 - accuracy: 0.9962 - recall: 0.9953 - precision: 0.9962 - auc: 0.9999 - false_positives: 4.0000 - true_positives: 1044.0000 - false_negatives: 5.0000 - true_negatives: 4192.0000 - sensitivity_at_specificity: 1.0000 - val_loss: 0.1437 - val_accuracy: 0.9531 - val_recall: 0.9531 - val_precision: 0.9531 - val_auc: 0.9925 - val_false_positives: 9.0000 - val_true_positives: 183.0000 - val_false_negatives: 9.0000 - val_true_negatives: 759.0000 - val_sensitivity_at_specificity: 0.9896\n",
      "Epoch 60/70\n",
      "33/33 [==============================] - 3s 90ms/step - loss: 0.0139 - accuracy: 0.9971 - recall: 0.9972 - precision: 0.9972 - auc: 1.0000 - false_positives: 3.0000 - true_positives: 1046.0000 - false_negatives: 3.0000 - true_negatives: 4193.0000 - sensitivity_at_specificity: 1.0000 - val_loss: 0.1120 - val_accuracy: 0.9583 - val_recall: 0.9583 - val_precision: 0.9634 - val_auc: 0.9958 - val_false_positives: 7.0000 - val_true_positives: 184.0000 - val_false_negatives: 8.0000 - val_true_negatives: 761.0000 - val_sensitivity_at_specificity: 0.9948\n",
      "Epoch 61/70\n",
      "33/33 [==============================] - 3s 92ms/step - loss: 0.0106 - accuracy: 0.9981 - recall: 0.9969 - precision: 0.9978 - auc: 1.0000 - false_positives: 2.0000 - true_positives: 1046.0000 - false_negatives: 3.0000 - true_negatives: 4194.0000 - sensitivity_at_specificity: 1.0000 - val_loss: 0.1382 - val_accuracy: 0.9635 - val_recall: 0.9635 - val_precision: 0.9635 - val_auc: 0.9931 - val_false_positives: 7.0000 - val_true_positives: 185.0000 - val_false_negatives: 7.0000 - val_true_negatives: 761.0000 - val_sensitivity_at_specificity: 0.9896\n",
      "Epoch 62/70\n",
      "33/33 [==============================] - 3s 90ms/step - loss: 0.0122 - accuracy: 0.9962 - recall: 0.9959 - precision: 0.9959 - auc: 1.0000 - false_positives: 4.0000 - true_positives: 1045.0000 - false_negatives: 4.0000 - true_negatives: 4192.0000 - sensitivity_at_specificity: 1.0000 - val_loss: 0.1121 - val_accuracy: 0.9688 - val_recall: 0.9688 - val_precision: 0.9688 - val_auc: 0.9959 - val_false_positives: 6.0000 - val_true_positives: 186.0000 - val_false_negatives: 6.0000 - val_true_negatives: 762.0000 - val_sensitivity_at_specificity: 0.9948\n",
      "Epoch 63/70\n",
      "33/33 [==============================] - 3s 91ms/step - loss: 0.0137 - accuracy: 0.9952 - recall: 0.9953 - precision: 0.9953 - auc: 1.0000 - false_positives: 5.0000 - true_positives: 1044.0000 - false_negatives: 5.0000 - true_negatives: 4191.0000 - sensitivity_at_specificity: 1.0000 - val_loss: 0.1400 - val_accuracy: 0.9688 - val_recall: 0.9635 - val_precision: 0.9686 - val_auc: 0.9938 - val_false_positives: 6.0000 - val_true_positives: 185.0000 - val_false_negatives: 7.0000 - val_true_negatives: 762.0000 - val_sensitivity_at_specificity: 0.9896\n",
      "Epoch 64/70\n",
      "33/33 [==============================] - 3s 91ms/step - loss: 0.0103 - accuracy: 0.9981 - recall: 0.9981 - precision: 0.9981 - auc: 1.0000 - false_positives: 2.0000 - true_positives: 1047.0000 - false_negatives: 2.0000 - true_negatives: 4194.0000 - sensitivity_at_specificity: 1.0000 - val_loss: 0.0713 - val_accuracy: 0.9740 - val_recall: 0.9740 - val_precision: 0.9740 - val_auc: 0.9996 - val_false_positives: 5.0000 - val_true_positives: 187.0000 - val_false_negatives: 5.0000 - val_true_negatives: 763.0000 - val_sensitivity_at_specificity: 1.0000\n",
      "Epoch 65/70\n",
      "33/33 [==============================] - 3s 91ms/step - loss: 0.0065 - accuracy: 1.0000 - recall: 1.0000 - precision: 1.0000 - auc: 1.0000 - false_positives: 0.0000e+00 - true_positives: 1049.0000 - false_negatives: 0.0000e+00 - true_negatives: 4196.0000 - sensitivity_at_specificity: 1.0000 - val_loss: 0.1079 - val_accuracy: 0.9688 - val_recall: 0.9688 - val_precision: 0.9738 - val_auc: 0.9990 - val_false_positives: 5.0000 - val_true_positives: 186.0000 - val_false_negatives: 6.0000 - val_true_negatives: 763.0000 - val_sensitivity_at_specificity: 1.0000\n",
      "Epoch 66/70\n",
      "33/33 [==============================] - 3s 90ms/step - loss: 0.0138 - accuracy: 0.9971 - recall: 0.9972 - precision: 0.9972 - auc: 1.0000 - false_positives: 3.0000 - true_positives: 1046.0000 - false_negatives: 3.0000 - true_negatives: 4193.0000 - sensitivity_at_specificity: 1.0000 - val_loss: 0.0932 - val_accuracy: 0.9688 - val_recall: 0.9688 - val_precision: 0.9688 - val_auc: 0.9962 - val_false_positives: 6.0000 - val_true_positives: 186.0000 - val_false_negatives: 6.0000 - val_true_negatives: 762.0000 - val_sensitivity_at_specificity: 0.9948\n",
      "Epoch 67/70\n",
      "33/33 [==============================] - 3s 92ms/step - loss: 0.0070 - accuracy: 0.9990 - recall: 0.9991 - precision: 0.9991 - auc: 1.0000 - false_positives: 1.0000 - true_positives: 1048.0000 - false_negatives: 1.0000 - true_negatives: 4195.0000 - sensitivity_at_specificity: 1.0000 - val_loss: 0.1132 - val_accuracy: 0.9583 - val_recall: 0.9583 - val_precision: 0.9583 - val_auc: 0.9989 - val_false_positives: 8.0000 - val_true_positives: 184.0000 - val_false_negatives: 8.0000 - val_true_negatives: 760.0000 - val_sensitivity_at_specificity: 1.0000\n",
      "Epoch 68/70\n",
      "33/33 [==============================] - 3s 92ms/step - loss: 0.0054 - accuracy: 1.0000 - recall: 1.0000 - precision: 1.0000 - auc: 1.0000 - false_positives: 0.0000e+00 - true_positives: 1049.0000 - false_negatives: 0.0000e+00 - true_negatives: 4196.0000 - sensitivity_at_specificity: 1.0000 - val_loss: 0.1374 - val_accuracy: 0.9740 - val_recall: 0.9740 - val_precision: 0.9740 - val_auc: 0.9914 - val_false_positives: 5.0000 - val_true_positives: 187.0000 - val_false_negatives: 5.0000 - val_true_negatives: 763.0000 - val_sensitivity_at_specificity: 0.9844\n",
      "Epoch 69/70\n",
      "33/33 [==============================] - 3s 90ms/step - loss: 0.0104 - accuracy: 0.9990 - recall: 0.9991 - precision: 0.9991 - auc: 1.0000 - false_positives: 1.0000 - true_positives: 1048.0000 - false_negatives: 1.0000 - true_negatives: 4195.0000 - sensitivity_at_specificity: 1.0000 - val_loss: 0.0614 - val_accuracy: 0.9792 - val_recall: 0.9740 - val_precision: 0.9844 - val_auc: 0.9995 - val_false_positives: 3.0000 - val_true_positives: 187.0000 - val_false_negatives: 5.0000 - val_true_negatives: 765.0000 - val_sensitivity_at_specificity: 1.0000\n",
      "Epoch 70/70\n",
      "33/33 [==============================] - 3s 91ms/step - loss: 0.0117 - accuracy: 0.9952 - recall: 0.9953 - precision: 0.9953 - auc: 1.0000 - false_positives: 5.0000 - true_positives: 1044.0000 - false_negatives: 5.0000 - true_negatives: 4191.0000 - sensitivity_at_specificity: 1.0000 - val_loss: 0.1229 - val_accuracy: 0.9688 - val_recall: 0.9688 - val_precision: 0.9688 - val_auc: 0.9964 - val_false_positives: 6.0000 - val_true_positives: 186.0000 - val_false_negatives: 6.0000 - val_true_negatives: 762.0000 - val_sensitivity_at_specificity: 0.9948\n",
      "Wall time: 3min 36s\n"
     ]
    }
   ],
   "source": [
    "%%time\n",
    "batch_size = 32\n",
    "\n",
    "\n",
    "ephocs=70\n",
    "                    \n",
    "\n",
    "steps_per_epoch=train_generator.n//train_generator.batch_size\n",
    "steps_per_epoch\n",
    "validation_steps=validation_generator.n//validation_generator.batch_size\n",
    "validation_steps\n",
    "mod = detection.fit(x=train_generator,\n",
    "                    steps_per_epoch=steps_per_epoch,\n",
    "                    epochs=ephocs,\n",
    "                    validation_data=validation_generator,\n",
    "                    validation_steps=validation_steps\n",
    "                    )\n"
   ]
  },
  {
   "cell_type": "markdown",
   "metadata": {},
   "source": [
    "### Model Evaluation"
   ]
  },
  {
   "cell_type": "code",
   "execution_count": 10,
   "metadata": {},
   "outputs": [
    {
     "name": "stdout",
     "output_type": "stream",
     "text": [
      "8/8 [==============================] - 1s 102ms/step - loss: 0.0598 - accuracy: 0.9825 - recall: 0.9531 - precision: 0.9570 - auc: 0.9996 - false_positives: 4.0000 - true_positives: 223.0000 - false_negatives: 5.0000 - true_negatives: 908.0000 - sensitivity_at_specificity: 1.0000\n"
     ]
    },
    {
     "data": {
      "text/plain": [
       "[0.059766728430986404,\n",
       " 0.9824561476707458,\n",
       " 0.953125,\n",
       " 0.95703125,\n",
       " 0.9996225237846375,\n",
       " 4.0,\n",
       " 223.0,\n",
       " 5.0,\n",
       " 908.0,\n",
       " 1.0]"
      ]
     },
     "execution_count": 10,
     "metadata": {},
     "output_type": "execute_result"
    }
   ],
   "source": [
    "detection.save('ecg-class.h5')\n",
    "\n",
    "detection.evaluate(test_generator,verbose=1)"
   ]
  },
  {
   "cell_type": "markdown",
   "metadata": {},
   "source": [
    "### Loss vs Epoch Graph - Train and Validation"
   ]
  },
  {
   "cell_type": "code",
   "execution_count": 11,
   "metadata": {},
   "outputs": [
    {
     "data": {
      "image/png": "[encoded data removed]",
      "text/plain": [
       "<Figure size 432x288 with 1 Axes>"
      ]
     },
     "metadata": {},
     "output_type": "display_data"
    },
    {
     "data": {
      "text/plain": [
       "<Figure size 432x288 with 0 Axes>"
      ]
     },
     "metadata": {},
     "output_type": "display_data"
    }
   ],
   "source": [
    "import matplotlib.pyplot as plt\n",
    "import seaborn as sns\n",
    "sns.set()\n",
    "\n",
    "plt.plot(mod.history['loss'], label='Train')\n",
    "plt.plot(mod.history['val_loss'], label='Validation')\n",
    "\n",
    "plt.legend()\n",
    "\n",
    "plt.show()\n",
    "plt.savefig('LossVal_loss_nonaugmented')\n"
   ]
  },
  {
   "cell_type": "markdown",
   "metadata": {},
   "source": [
    "### Accuracy vs Epoch Graph - Train and Validation"
   ]
  },
  {
   "cell_type": "code",
   "execution_count": 12,
   "metadata": {},
   "outputs": [
    {
     "data": {
      "image/png": "[encoded data removed]",
      "text/plain": [
       "<Figure size 432x288 with 1 Axes>"
      ]
     },
     "metadata": {},
     "output_type": "display_data"
    },
    {
     "data": {
      "text/plain": [
       "<Figure size 432x288 with 0 Axes>"
      ]
     },
     "metadata": {},
     "output_type": "display_data"
    }
   ],
   "source": [
    "plt.plot(mod.history['accuracy'], label='Train')\n",
    "plt.plot(mod.history['val_accuracy'], label='Validation')\n",
    "plt.legend()\n",
    "\n",
    "plt.show()\n",
    "plt.savefig('AccVal_acc_nonaugmented')\n"
   ]
  }
 ],
 "metadata": {
  "kernelspec": {
   "display_name": "gpu_tf",
   "language": "python",
   "name": "gpu_tf"
  },
  "language_info": {
   "codemirror_mode": {
    "name": "ipython",
    "version": 3
   },
   "file_extension": ".py",
   "mimetype": "text/x-python",
   "name": "python",
   "nbconvert_exporter": "python",
   "pygments_lexer": "ipython3",
   "version": "3.8.11"
  }
 },
 "nbformat": 4,
 "nbformat_minor": 2
}
