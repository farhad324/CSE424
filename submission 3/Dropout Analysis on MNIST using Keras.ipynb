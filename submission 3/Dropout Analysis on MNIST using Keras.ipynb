{
 "cells": [
  {
   "cell_type": "markdown",
   "metadata": {},
   "source": [
    "## Import Libraries"
   ]
  },
  {
   "cell_type": "code",
   "execution_count": 1,
   "metadata": {},
   "outputs": [],
   "source": [
    "import tensorflow as tf\n",
    "import numpy as np\n",
    "import matplotlib.pyplot as plt\n",
    "\n",
    "mnist = tf.keras.datasets.mnist \n",
    "(x_train, y_train),(x_test,y_test) = mnist.load_data()\n",
    "\n",
    "x_train = tf.keras.utils.normalize(x_train, axis = 1)\n",
    "x_test = tf.keras.utils.normalize(x_test,axis = 1)\n"
   ]
  },
  {
   "cell_type": "markdown",
   "metadata": {},
   "source": [
    "## Model without using Dropout"
   ]
  },
  {
   "cell_type": "code",
   "execution_count": 2,
   "metadata": {},
   "outputs": [
    {
     "name": "stdout",
     "output_type": "stream",
     "text": [
      "---------------------------Training Phase - Without Dropout---------------------------\n",
      "Epoch 1/10\n",
      "1875/1875 [==============================] - 3s 1ms/step - loss: 0.3039 - accuracy: 0.9112\n",
      "Epoch 2/10\n",
      "1875/1875 [==============================] - 3s 2ms/step - loss: 0.1354 - accuracy: 0.9589\n",
      "Epoch 3/10\n",
      "1875/1875 [==============================] - 3s 2ms/step - loss: 0.0963 - accuracy: 0.9694\n",
      "Epoch 4/10\n",
      "1875/1875 [==============================] - 3s 2ms/step - loss: 0.0756 - accuracy: 0.9761\n",
      "Epoch 5/10\n",
      "1875/1875 [==============================] - 3s 2ms/step - loss: 0.0589 - accuracy: 0.9812\n",
      "Epoch 6/10\n",
      "1875/1875 [==============================] - 3s 2ms/step - loss: 0.0490 - accuracy: 0.9843\n",
      "Epoch 7/10\n",
      "1875/1875 [==============================] - 3s 2ms/step - loss: 0.0376 - accuracy: 0.9878\n",
      "Epoch 8/10\n",
      "1875/1875 [==============================] - 4s 2ms/step - loss: 0.0340 - accuracy: 0.9883\n",
      "Epoch 9/10\n",
      "1875/1875 [==============================] - 4s 2ms/step - loss: 0.0272 - accuracy: 0.9910\n",
      "Epoch 10/10\n",
      "1875/1875 [==============================] - 4s 2ms/step - loss: 0.0241 - accuracy: 0.9922\n",
      "\n",
      "\n",
      "---------------------------Testing Phase - Without Dropout---------------------------\n",
      "313/313 [==============================] - 1s 1ms/step - loss: 0.1128 - accuracy: 0.9748\n"
     ]
    },
    {
     "data": {
      "text/plain": [
       "[0.11282967776060104, 0.9747999906539917]"
      ]
     },
     "execution_count": 2,
     "metadata": {},
     "output_type": "execute_result"
    }
   ],
   "source": [
    "model = tf.keras.models.Sequential()\n",
    "model.add(tf.keras.layers.Flatten()) \n",
    "model.add(tf.keras.layers.Dense(64,activation=tf.nn.relu))\n",
    "model.add(tf.keras.layers.Dense(128,activation=tf.nn.relu))\n",
    "model.add(tf.keras.layers.Dense(10,activation=tf.nn.softmax)) \n",
    "model.compile(optimizer = \"adam\" , loss = 'sparse_categorical_crossentropy' , metrics = ['accuracy'] )\n",
    "print('---------------------------Training Phase - Without Dropout---------------------------')\n",
    "model.fit(x_train,y_train,epochs = 10)\n",
    "print()\n",
    "print()\n",
    "print('---------------------------Testing Phase - Without Dropout---------------------------')\n",
    "model.evaluate(x_test, y_test)\n"
   ]
  },
  {
   "cell_type": "markdown",
   "metadata": {},
   "source": [
    "## Model using Dropout"
   ]
  },
  {
   "cell_type": "code",
   "execution_count": 3,
   "metadata": {},
   "outputs": [
    {
     "name": "stdout",
     "output_type": "stream",
     "text": [
      "---------------------------Training Phase - Without Dropout---------------------------\n",
      "Epoch 1/10\n",
      "1875/1875 [==============================] - 4s 2ms/step - loss: 0.3190 - accuracy: 0.9062\n",
      "Epoch 2/10\n",
      "1875/1875 [==============================] - 5s 2ms/step - loss: 0.1465 - accuracy: 0.9563\n",
      "Epoch 3/10\n",
      "1875/1875 [==============================] - 4s 2ms/step - loss: 0.1085 - accuracy: 0.9659\n",
      "Epoch 4/10\n",
      "1875/1875 [==============================] - 4s 2ms/step - loss: 0.0854 - accuracy: 0.9736\n",
      "Epoch 5/10\n",
      "1875/1875 [==============================] - 4s 2ms/step - loss: 0.0735 - accuracy: 0.9768\n",
      "Epoch 6/10\n",
      "1875/1875 [==============================] - 4s 2ms/step - loss: 0.0633 - accuracy: 0.9796\n",
      "Epoch 7/10\n",
      "1875/1875 [==============================] - 4s 2ms/step - loss: 0.0568 - accuracy: 0.9812\n",
      "Epoch 8/10\n",
      "1875/1875 [==============================] - 4s 2ms/step - loss: 0.0477 - accuracy: 0.9843\n",
      "Epoch 9/10\n",
      "1875/1875 [==============================] - 4s 2ms/step - loss: 0.0421 - accuracy: 0.9861\n",
      "Epoch 10/10\n",
      "1875/1875 [==============================] - 4s 2ms/step - loss: 0.0389 - accuracy: 0.9870\n",
      "\n",
      "\n",
      "---------------------------Testing Phase - Without Dropout---------------------------\n",
      "313/313 [==============================] - 1s 1ms/step - loss: 0.0947 - accuracy: 0.9751\n"
     ]
    },
    {
     "data": {
      "text/plain": [
       "[0.09471229463815689, 0.9750999808311462]"
      ]
     },
     "execution_count": 3,
     "metadata": {},
     "output_type": "execute_result"
    }
   ],
   "source": [
    "model = tf.keras.models.Sequential()\n",
    "model.add(tf.keras.layers.Flatten()) \n",
    "model.add(tf.keras.layers.Dense(64,activation=tf.nn.relu))\n",
    "model.add(tf.keras.layers.Dropout(0.05))\n",
    "model.add(tf.keras.layers.Dense(128,activation=tf.nn.relu))\n",
    "model.add(tf.keras.layers.Dropout(0.05))\n",
    "model.add(tf.keras.layers.Dense(10,activation=tf.nn.softmax)) \n",
    "model.compile(optimizer = \"adam\" , loss = 'sparse_categorical_crossentropy' , metrics = ['accuracy'] )\n",
    "print('---------------------------Training Phase - Without Dropout---------------------------')\n",
    "model.fit(x_train,y_train,epochs = 10)\n",
    "print()\n",
    "print()\n",
    "print('---------------------------Testing Phase - Without Dropout---------------------------')\n",
    "model.evaluate(x_test, y_test)"
   ]
  },
  {
   "cell_type": "markdown",
   "metadata": {},
   "source": [
    "### Final Results without Dropout\n",
    "```\n",
    "Epoch 10/10\n",
    "1875/1875 [==============================] - 4s 2ms/step - loss: 0.0241 - accuracy: 0.9922\n",
    "\n",
    "313/313 [==============================] - 1s 1ms/step - loss: 0.1128 - accuracy: 0.9748\n",
    "\n",
    "```\n",
    "### Final Results witht Dropout\n",
    "```\n",
    "Epoch 10/10\n",
    "1875/1875 [==============================] - 4s 2ms/step - loss: 0.0389 - accuracy: 0.9870\n",
    "\n",
    "313/313 [==============================] - 1s 1ms/step - loss: 0.0947 - accuracy: 0.9751\n",
    "\n",
    "```\n",
    "\n",
    "#### As we can see, we are getting a higher test accuracy value using Dropout but lower training accuracy value. Which proves that Dropout Reduces the overfitting of the model."
   ]
  }
 ],
 "metadata": {
  "kernelspec": {
   "display_name": "gpu_tf",
   "language": "python",
   "name": "gpu_tf"
  },
  "language_info": {
   "codemirror_mode": {
    "name": "ipython",
    "version": 3
   },
   "file_extension": ".py",
   "mimetype": "text/x-python",
   "name": "python",
   "nbconvert_exporter": "python",
   "pygments_lexer": "ipython3",
   "version": "3.8.11"
  }
 },
 "nbformat": 4,
 "nbformat_minor": 2
}
